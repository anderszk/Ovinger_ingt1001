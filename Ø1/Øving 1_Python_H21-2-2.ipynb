{
 "cells": [
  {
   "cell_type": "markdown",
   "metadata": {
    "tags": []
   },
   "source": [
    "# Øving 1  -   INGT1001 Elektro: Python-modulen #\n",
    "> ### Frist: søndag 19/9, kl. 23.59\n",
    "> ### Levering: på vår underside (organisasjon) på Blackboard under folderen Arbeidskrav\n",
    "> __Godkjenningskrav:__  _P2.38-P2.43 må være gjort + minst 50% av de øvrige deloppgavene_"
   ]
  },
  {
   "cell_type": "markdown",
   "metadata": {},
   "source": [
    "### Fra Chapter 1, Python for Everyone ###\n",
    "> __Programming Execises: P1.2 - P1.5, P1.16__<br>\n",
    "\n",
    "### Fra Chapter 2, Python for Everyone ###\n",
    ">__Programming Execises: P2.4, P2.17, P2.19, P2.22, P2.32, P2.34, P2.38 - P2.43__ <br>\n",
    "\n",
    "_Nedenfor ser du besvarelsen på P1.1 som et eksempel på hvordan de skal se ut.\n",
    "Dvs. opprett en kodecelle, kommenter på toppen hvilken deloppgave det dreier seg om, og så kommer kodelinjene. Sørg for å legg inn greit med kommentarer i koden også._\n",
    "### ###\n"
   ]
  },
  {
   "cell_type": "code",
   "execution_count": null,
   "metadata": {},
   "outputs": [],
   "source": [
    "#\n",
    "#    Besvarelse P1.1\n",
    "#\n",
    "\n",
    "#  Print Hello på fransk\n",
    "#\n",
    "print(\"Bonjour!\")\n"
   ]
  },
  {
   "cell_type": "markdown",
   "metadata": {},
   "source": [
    "P1.2"
   ]
  },
  {
   "cell_type": "code",
   "execution_count": null,
   "metadata": {},
   "outputs": [],
   "source": [
    "#P1.2\n",
    "sum = 0\n",
    "i = 1\n",
    "for i in range(11):\n",
    "    sum += i\n",
    "    i += 1\n",
    "print(sum)"
   ]
  },
  {
   "cell_type": "markdown",
   "metadata": {},
   "source": [
    "P1.3"
   ]
  },
  {
   "cell_type": "code",
   "execution_count": null,
   "metadata": {},
   "outputs": [],
   "source": [
    "#P1.3\n",
    "produkt = 1\n",
    "i = 1\n",
    "while i <= 10:\n",
    "    produkt *= i\n",
    "    i += 1\n",
    "print(produkt)"
   ]
  },
  {
   "cell_type": "markdown",
   "metadata": {},
   "source": [
    "P1.4"
   ]
  },
  {
   "cell_type": "code",
   "execution_count": null,
   "metadata": {},
   "outputs": [],
   "source": [
    "#P.4\n",
    "b = 1000\n",
    "r = 1.05\n",
    "for i in range(3):\n",
    "    b *= r\n",
    "    print(round(b,2))"
   ]
  },
  {
   "cell_type": "markdown",
   "metadata": {},
   "source": [
    "P1.5"
   ]
  },
  {
   "cell_type": "code",
   "execution_count": null,
   "metadata": {},
   "outputs": [],
   "source": [
    "#P1.5\n",
    "navn = \"Christian\"\n",
    "for i in range(len(navn)+2):\n",
    "    print(\"-\",end=\"\")\n",
    "print(\"\")\n",
    "print(f\"|{navn}|\")\n",
    "for i in range(len(navn)+2):\n",
    "    print(\"-\",end=\"\")\n",
    "print(\"\")"
   ]
  },
  {
   "cell_type": "markdown",
   "metadata": {},
   "source": [
    "P1.16"
   ]
  },
  {
   "cell_type": "code",
   "execution_count": null,
   "metadata": {},
   "outputs": [],
   "source": [
    "#P1.16\n",
    "e = [\"Good morning.\", \"It is a pleasure to meet you.\", \"Please call me tomorrow.\", \"Have a nice day!\"]\n",
    "n = [\"God morgen.\", \"Det er hyggelig å møte deg.\", \"Ring meg i morgen.\", \"Ha en fin dag!\"]\n",
    "\n",
    "for i in range(len(e)):\n",
    "    print(e[i], end=\"\")\n",
    "    print(n[i].rjust(len(e[1])))"
   ]
  },
  {
   "cell_type": "markdown",
   "metadata": {},
   "source": [
    "P2.4"
   ]
  },
  {
   "cell_type": "code",
   "execution_count": null,
   "metadata": {},
   "outputs": [],
   "source": [
    "#P2.4\n",
    "a = int(input(\"a = \"))\n",
    "b = int(input(\"b = \"))\n",
    "\n",
    "sum = a + b\n",
    "difference = a - b if a > b else b-a\n",
    "product = a * b\n",
    "average = (a * b) / 2\n",
    "max = a if a > b else b\n",
    "print(f\"Sum {sum} Difference {difference}\")"
   ]
  },
  {
   "cell_type": "markdown",
   "metadata": {},
   "source": [
    "P2.19"
   ]
  },
  {
   "cell_type": "code",
   "execution_count": null,
   "metadata": {},
   "outputs": [],
   "source": [
    "#P2.19\n",
    "mnd = [\"Januar\", \"Februar\", \"Mars\", \"April\", \"Mai\", \"Juni\", \"Juli\", \"August\", \"September\", \"Oktober\", \"November\", \"Desember\"]\n",
    "r = int(input(\"Skriv inn mndnunmmer: \"))\n",
    "print(mnd[r-1])"
   ]
  },
  {
   "cell_type": "markdown",
   "metadata": {},
   "source": [
    "P2.22"
   ]
  },
  {
   "cell_type": "code",
   "execution_count": null,
   "metadata": {},
   "outputs": [],
   "source": [
    "#P2.22\n",
    "a = input(\"ord\")\n",
    "print(f\"{a[0]}{a[1]}{a[2]}\",end=\"\")\n",
    "i = 2\n",
    "while i >= 2 and i <= len(a)-5:\n",
    "    print(\".\",end=\"\")\n",
    "    i+=1\n",
    "l = len(a)\n",
    "print(f\"{a[l-3]}{a[l-2]}{a[l-1]}\")"
   ]
  },
  {
   "cell_type": "markdown",
   "metadata": {},
   "source": [
    "P2.38"
   ]
  },
  {
   "cell_type": "code",
   "execution_count": null,
   "metadata": {},
   "outputs": [],
   "source": [
    "#P2.38\n",
    "a = float(input(\"R1: \"))\n",
    "b = float(input(\"R2: \"))\n",
    "c = float(input(\"R3: \"))\n",
    "\n",
    "d = (1/b + 1/c)**(-1)\n",
    "print(round(d,2))\n",
    "tot = round(a+d,2)\n",
    "print(tot)"
   ]
  },
  {
   "cell_type": "markdown",
   "metadata": {},
   "source": [
    "P2.39"
   ]
  },
  {
   "cell_type": "code",
   "execution_count": null,
   "metadata": {},
   "outputs": [],
   "source": [
    "#P2.39\n",
    "import math\n",
    "a = 17.27\n",
    "b = 237.7\n",
    "\n",
    "t = float(input(\"Temperatur: \"))\n",
    "h = float(input(\"Fuktighet: \"))\n",
    "\n",
    "f = ((a*t)/(b+t)) + math.log(h)\n",
    "\n",
    "td = (b*f)/(a-f)\n",
    "print(f\"duggpunktspemperaturen er {round(td,4)}\")"
   ]
  },
  {
   "cell_type": "markdown",
   "metadata": {},
   "source": [
    "P2.40"
   ]
  },
  {
   "cell_type": "code",
   "execution_count": null,
   "metadata": {},
   "outputs": [],
   "source": [
    "#P2.41\n",
    "import math\n",
    "\n",
    "r = 1075 #Ohm\n",
    "t = 85 + 275.15 #Celsius til Kelvin\n",
    "b = 3969 #Kelvin\n",
    "\n",
    "R = float(input(\"Input R: \"))\n",
    "\n",
    "T = ((b*t)/t*math.log(R/r)+b)-273.15 #Regner ut T\n",
    "\n",
    "print(round(T,3))"
   ]
  },
  {
   "cell_type": "markdown",
   "metadata": {},
   "source": [
    "P2.41"
   ]
  },
  {
   "cell_type": "code",
   "execution_count": null,
   "metadata": {},
   "outputs": [],
   "source": [
    "#P2.41\n",
    "import math\n",
    "vt = float(input(\"Input V(t): \"))\n",
    "P = float(input(\"P: \"))\n",
    "pf = float(input(\"vf: \"))\n",
    "r = -10 #Ohm\n",
    "\n",
    "vs = math.sqrt((vt + (2 * r * P)/vt)**2 + (((2 * r * P)/pf * vt)**2) * (1-pf**2))\n",
    "\n",
    "print(vs)\n"
   ]
  },
  {
   "cell_type": "markdown",
   "metadata": {},
   "source": [
    "P2.42"
   ]
  },
  {
   "cell_type": "code",
   "execution_count": null,
   "metadata": {},
   "outputs": [],
   "source": [
    "#P2.42\n",
    "import math\n",
    "\n",
    "f = float(input(\"f gitt i Hz: \"))\n",
    "cmin = float(input(\"input C min: \"))\n",
    "cmax = float(input(\"input C max: \"))\n",
    "\n",
    "L = ((1/(2*math.pi*f))**2)/2\n",
    "fmin = 1/(2 * math.pi * math.sqrt(L * cmin))\n",
    "fmax = 1/(2 * math.pi * math.sqrt(L * cmax))\n",
    "print(f\"Frekvensen må være mellom {round(fmin,2)} og {round(fmax,2)} Hz\")"
   ]
  },
  {
   "cell_type": "markdown",
   "metadata": {},
   "source": [
    "p2.43"
   ]
  },
  {
   "cell_type": "code",
   "execution_count": null,
   "metadata": {},
   "outputs": [],
   "source": [
    "#P2.43\n",
    "qa = float(input(\"Columb verdi 1: \"))\n",
    "qb = float(input(\"Columb verdi 2: \"))\n",
    "r = float(input(\"Hvor mange meter: \"))\n",
    "e = 8.854*10**-12\n",
    "F = (qa*qb)/(4 * math.pi * e * (r**2))\n",
    "print(F)"
   ]
  }
 ],
 "metadata": {
  "kernelspec": {
   "display_name": "Python 3",
   "language": "python",
   "name": "python3"
  },
  "language_info": {
   "codemirror_mode": {
    "name": "ipython",
    "version": 3
   },
   "file_extension": ".py",
   "mimetype": "text/x-python",
   "name": "python",
   "nbconvert_exporter": "python",
   "pygments_lexer": "ipython3",
   "version": "3.8.8"
  }
 },
 "nbformat": 4,
 "nbformat_minor": 4
}
