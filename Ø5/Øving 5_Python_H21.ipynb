{
 "cells": [
  {
   "cell_type": "markdown",
   "metadata": {
    "tags": []
   },
   "source": [
    "# Øving 5  -   INGT1001 Elektro: Python-modulen #\n",
    "> ### Frist: søndag 7/11, kl. 23.59\n",
    "> ### Levering: på vår underside (https://ntnu.blackboard.com/webapps/blackboard/execute/modulepage/view?course_id=_32669_1&cmp_tab_id=_252410_1&editMode=true&mode=cpview#) på Blackboard under folderen Arbeidskrav\n",
    "> __Godkjenningskrav:__  _P7.32-33 og P8.17-18 må være gjort + minst 50% av de øvrige deloppgavene_"
   ]
  },
  {
   "cell_type": "markdown",
   "metadata": {
    "tags": []
   },
   "source": [
    "### Fra Chapter 7 og 8, Python for Everyone ###\n",
    "> __Programming Execises: P7: 1, 4-6, 8-9, 20-23, 32-33 + P8: 13, 17-19, 22__<br>\n",
    "\n",
    "_Nedenfor ser du besvarelsen på P1.1 fra Øving 1 som et eksempel på hvordan de skal se ut.\n",
    "Dvs. opprett en kodecelle, kommenter på toppen hvilken deloppgave det dreier seg om, og så kommer kodelinjene. Sørg for å legg inn greit med kommentarer i koden også._\n",
    "### ###\n"
   ]
  },
  {
   "cell_type": "code",
   "execution_count": 1,
   "metadata": {},
   "outputs": [
    {
     "name": "stdout",
     "output_type": "stream",
     "text": [
      "Bonjour!\n"
     ]
    }
   ],
   "source": [
    "#\n",
    "#    Besvarelse P1.1\n",
    "#\n",
    "\n",
    "#  Print Hello på fransk\n",
    "#\n",
    "print(\"Bonjour!\")\n"
   ]
  },
  {
   "cell_type": "code",
   "execution_count": 7,
   "metadata": {},
   "outputs": [],
   "source": [
    "#\n",
    "#    Og så fortsetter du bare å legge til nye kodeceller til besvarelsen av hver deloppgave.\n",
    "#    Husk at du eksekverer innholdet i en celle ved å trykke shift-enter når du står inne i cellen.\n",
    "#    Og dobbelklikk på en celle for å komme inn i den for redigere innholdet.\n",
    "#"
   ]
  },
  {
   "cell_type": "code",
   "execution_count": null,
   "metadata": {},
   "outputs": [],
   "source": []
  }
 ],
 "metadata": {
  "kernelspec": {
   "display_name": "Python 3 (ipykernel)",
   "language": "python",
   "name": "python3"
  },
  "language_info": {
   "codemirror_mode": {
    "name": "ipython",
    "version": 3
   },
   "file_extension": ".py",
   "mimetype": "text/x-python",
   "name": "python",
   "nbconvert_exporter": "python",
   "pygments_lexer": "ipython3",
   "version": "3.9.6"
  }
 },
 "nbformat": 4,
 "nbformat_minor": 4
}
